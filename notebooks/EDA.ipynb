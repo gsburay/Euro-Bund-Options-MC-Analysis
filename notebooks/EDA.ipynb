{
 "cells": [
  {
   "cell_type": "code",
   "execution_count": 1,
   "id": "91523a52-8e11-477c-93d5-012c9161d302",
   "metadata": {},
   "outputs": [],
   "source": [
    "import pandas as pd\n",
    "import numpy as np"
   ]
  },
  {
   "cell_type": "code",
   "execution_count": 3,
   "id": "64d09442-9998-4e36-951f-fa9a8b0e6208",
   "metadata": {},
   "outputs": [
    {
     "name": "stdout",
     "output_type": "stream",
     "text": [
      "Intraday Volatility Summary:\n",
      "count    40.000000\n",
      "mean      0.234737\n",
      "std       0.229225\n",
      "min       0.000000\n",
      "25%       0.039177\n",
      "50%       0.197938\n",
      "75%       0.287264\n",
      "max       0.777778\n",
      "Name: Intraday Volatility, dtype: float64\n",
      "\n",
      "Price Change Summary:\n",
      "count    40.000000\n",
      "mean     -0.021500\n",
      "std       0.517705\n",
      "min      -0.820000\n",
      "25%      -0.440000\n",
      "50%      -0.010000\n",
      "75%       0.370000\n",
      "max       0.800000\n",
      "Name: Change, dtype: float64\n",
      "\n",
      "Correlation Matrix (Open Interest, Volume, Price Changes):\n",
      "          Open Int    Volume    Change\n",
      "Open Int  1.000000  0.580850 -0.264205\n",
      "Volume    0.580850  1.000000 -0.203239\n",
      "Change   -0.264205 -0.203239  1.000000\n"
     ]
    }
   ],
   "source": [
    "\n",
    "# Load the CSV file\n",
    "file_path = r'D:\\Users\\I35665\\Downloads\\Euro-Bund-Options-MC-Analysis\\data\\ggm24-options-monthly-options-exp-05_24_24-near-the-money-stacked-intraday-04-24-2024.csv'\n",
    "data = pd.read_csv(file_path)\n",
    "\n",
    "# Calculate intraday volatility as a percentage of the opening price\n",
    "data['Intraday Volatility'] = ((data['High'] - data['Low']) / data['Open']).replace([np.inf, -np.inf], np.nan)\n",
    "\n",
    "# Replace NaNs where opening price was zero with volatility calculated using the last price\n",
    "data.loc[data['Intraday Volatility'].isna(), 'Intraday Volatility'] = \\\n",
    "    (data['High'] - data['Low']) / data['Last'].replace({0: np.nan})\n",
    "\n",
    "# Summary statistics of price changes\n",
    "price_change_summary = data['Change'].describe()\n",
    "\n",
    "# Drop rows with NaNs in 'Open Int' and 'Volume' for correlation analysis\n",
    "open_interest_summary = data[['Open Int', 'Volume', 'Change']].dropna()\n",
    "\n",
    "# Summary statistics for intraday volatility\n",
    "intraday_volatility_summary = data['Intraday Volatility'].describe()\n",
    "\n",
    "# Correlation matrix between open interest, volume, and price changes\n",
    "open_interest_relationship = open_interest_summary.corr()\n",
    "\n",
    "# Display the results\n",
    "print(\"Intraday Volatility Summary:\")\n",
    "print(intraday_volatility_summary)\n",
    "print(\"\\nPrice Change Summary:\")\n",
    "print(price_change_summary)\n",
    "print(\"\\nCorrelation Matrix (Open Interest, Volume, Price Changes):\")\n",
    "print(open_interest_relationship)\n"
   ]
  },
  {
   "cell_type": "code",
   "execution_count": null,
   "id": "b6a6a893-4fe5-48ed-b640-318417af7960",
   "metadata": {},
   "outputs": [],
   "source": []
  }
 ],
 "metadata": {
  "kernelspec": {
   "display_name": "Python 3 (ipykernel)",
   "language": "python",
   "name": "python3"
  },
  "language_info": {
   "codemirror_mode": {
    "name": "ipython",
    "version": 3
   },
   "file_extension": ".py",
   "mimetype": "text/x-python",
   "name": "python",
   "nbconvert_exporter": "python",
   "pygments_lexer": "ipython3",
   "version": "3.9.12"
  }
 },
 "nbformat": 4,
 "nbformat_minor": 5
}
